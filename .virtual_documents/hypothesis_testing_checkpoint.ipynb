








# CodeGrade step1
# Replace None with appropriate code
# assumes that the sample mean length is greater than or equal to the known species' mean
null_hypothesis = "D"  

# the sample mean length is less than the known species' mean
alternative_hypothesis = "E" 


# Both values should be strings from "A" to "F"
q1_options = ["A", "B", "C", "D", "E", "F"]

assert null_hypothesis in q1_options

assert alternative_hypothesis in q1_options





# CodeGrade step2
# Replace None with appropriate code

# concludes the sample is smaller, but genetic testing confirms they are not actually smaller
type_1_error = "B"

# concludes no evidence that the sample is smaller, but genetic testing confirms they are actually smaller
type_2_error = "C"


# Both values should be strings from "A" to "D"
q2_options = ["A", "B", "C", "D"]

assert type_1_error in q2_options

assert type_2_error in q2_options





# Run this cell without changes

import scipy.stats as stats
from math import sqrt
import numpy as np
from numbers import Number

# Population mean
mu = 90

# Population standard deviation
sigma = 30

# Mean length of salamander sample
x_bar = 87

# Number of salamanders in the sample
n = 60

# Alpha (1 - confidence level)
alpha = 0.2


# CodeGrade step3
# Replace None with appropriate code

# # Calculating z-score
z = (x_bar - mu) / (sigma / sqrt(n))
z


# z should be a negative floating point value
# (negative since the sample mean is smaller than the known species mean)
assert isinstance(z, Number)
assert z < 0





# CodeGrade step4
# Perform calculations

# Finding the critical z-score for alpha = 0.2 
z_critical = stats.norm.ppf(alpha)

# Assign this to True or False
reject_null_hypothesis = z < z_critical

reject_null_hypothesis


# This value should be True or False
assert reject_null_hypothesis == True or reject_null_hypothesis == False
